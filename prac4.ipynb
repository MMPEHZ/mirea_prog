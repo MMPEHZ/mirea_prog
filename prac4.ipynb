{
 "cells": [
  {
   "cell_type": "code",
   "execution_count": 1,
   "metadata": {},
   "outputs": [],
   "source": [
    "using LinearAlgebra"
   ]
  },
  {
   "cell_type": "code",
   "execution_count": 2,
   "metadata": {},
   "outputs": [
    {
     "data": {
      "text/plain": [
       "reverse_gauss (generic function with 1 method)"
      ]
     },
     "execution_count": 2,
     "metadata": {},
     "output_type": "execute_result"
    }
   ],
   "source": [
    "function reverse_gauss(A::AbstractMatrix{T}, b::AbstractVector{T}) where T\n",
    "    x = similar(b)\n",
    "    N = size(A, 1)\n",
    "    @inbounds for k in 0:N-1\n",
    "    x[N-k] = (b[N-k] - sumprod(@view(A[N-k,N-k+1:end]), @view(x[N-k+1:end]))) / A[N-k,N-k]\n",
    "    end\n",
    "    return x\n",
    "end"
   ]
  },
  {
   "cell_type": "code",
   "execution_count": 3,
   "metadata": {},
   "outputs": [
    {
     "data": {
      "text/plain": [
       "sumprod (generic function with 1 method)"
      ]
     },
     "execution_count": 3,
     "metadata": {},
     "output_type": "execute_result"
    }
   ],
   "source": [
    "@inline\n",
    "function sumprod(A::AbstractVector{T}, B::AbstractVector{T}) where T\n",
    "    s = T(0)\n",
    "    @inbounds for i in eachindex(A)\n",
    "        s = fma(A[i], B[i], s) \n",
    "    end\n",
    "    return s\n",
    "end"
   ]
  },
  {
   "cell_type": "code",
   "execution_count": 4,
   "metadata": {},
   "outputs": [
    {
     "data": {
      "text/plain": [
       "random_upper_triangular (generic function with 1 method)"
      ]
     },
     "execution_count": 4,
     "metadata": {},
     "output_type": "execute_result"
    }
   ],
   "source": [
    "function random_upper_triangular(N::Integer, T::Type)\n",
    "    A = randn(T, N, N)\n",
    "    _, A = lu(A)\n",
    "    return A\n",
    "end"
   ]
  },
  {
   "cell_type": "code",
   "execution_count": 5,
   "metadata": {},
   "outputs": [
    {
     "data": {
      "text/plain": [
       "6-element Vector{Float64}:\n",
       " -1.2996690265929565\n",
       " -2.8419188089433693\n",
       " -0.2399923317351978\n",
       "  0.20750127418148342\n",
       " -0.8858205820354792\n",
       " -0.17332970280955834"
      ]
     },
     "execution_count": 5,
     "metadata": {},
     "output_type": "execute_result"
    }
   ],
   "source": [
    "Afloat = random_upper_triangular(6, Float64)\n",
    "bfloat = randn(Float64, 6)\n",
    "xfloat = reverse_gauss(Afloat, bfloat)"
   ]
  },
  {
   "cell_type": "code",
   "execution_count": 6,
   "metadata": {},
   "outputs": [
    {
     "data": {
      "text/plain": [
       "6-element Vector{Float64}:\n",
       "  1.1102230246251565e-16\n",
       " -3.885780586188048e-16\n",
       "  2.7755575615628914e-17\n",
       "  0.0\n",
       " -1.1102230246251565e-16\n",
       "  0.0"
      ]
     },
     "execution_count": 6,
     "metadata": {},
     "output_type": "execute_result"
    }
   ],
   "source": [
    "res_float = bfloat - (Afloat*xfloat)"
   ]
  },
  {
   "cell_type": "code",
   "execution_count": 7,
   "metadata": {},
   "outputs": [
    {
     "data": {
      "text/plain": [
       "true"
      ]
     },
     "execution_count": 7,
     "metadata": {},
     "output_type": "execute_result"
    }
   ],
   "source": [
    "all(i -> i < 10e-10, res_float)"
   ]
  },
  {
   "cell_type": "code",
   "execution_count": 8,
   "metadata": {},
   "outputs": [
    {
     "data": {
      "text/plain": [
       "6-element Vector{BigFloat}:\n",
       "  5.067068125223694346444944535615238489704068411075201385650220051694907195481157\n",
       "  1.530718526528163453056259044781272037107327922461970454388714786746117202095489\n",
       " -5.449224228701125189392660436162661291193316039523361709963273512118485059402826\n",
       "  0.1318806123859138056675337820846489949220566181680058351625650260281271140954846\n",
       " -1.050017414163624765640404181553052789238758348426998782818243574137926318946748\n",
       "  1.850700079740325361022536119690300739490496553634323470474934603256237324105048"
      ]
     },
     "execution_count": 8,
     "metadata": {},
     "output_type": "execute_result"
    }
   ],
   "source": [
    "A_bigfloat = random_upper_triangular(6, BigFloat)\n",
    "b_bigfloat = randn(BigFloat, 6)\n",
    "x_bigfloat = reverse_gauss(A_bigfloat, b_bigfloat)"
   ]
  },
  {
   "cell_type": "code",
   "execution_count": 9,
   "metadata": {},
   "outputs": [
    {
     "data": {
      "text/plain": [
       "6-element Vector{BigFloat}:\n",
       " -1.20906359771322224755408926079205593995624005102107939390331848582360285244274e-76\n",
       " -8.636168555094444625386351862800399571116000364436281385023703470168591803162427e-78\n",
       " -2.590850566528333387615905558840119871334800109330884415507111041050577540948728e-77\n",
       "  4.318084277547222312693175931400199785558000182218140692511851735084295901581214e-78\n",
       "  8.636168555094444625386351862800399571116000364436281385023703470168591803162427e-78\n",
       "  0.0"
      ]
     },
     "execution_count": 9,
     "metadata": {},
     "output_type": "execute_result"
    }
   ],
   "source": [
    "res_big_float = b_bigfloat - (A_bigfloat*x_bigfloat)"
   ]
  },
  {
   "cell_type": "code",
   "execution_count": 10,
   "metadata": {},
   "outputs": [
    {
     "data": {
      "text/plain": [
       "true"
      ]
     },
     "execution_count": 10,
     "metadata": {},
     "output_type": "execute_result"
    }
   ],
   "source": [
    "all(i -> i < 10e-10, res_big_float)"
   ]
  },
  {
   "cell_type": "code",
   "execution_count": 11,
   "metadata": {},
   "outputs": [
    {
     "data": {
      "text/plain": [
       "transform_to_steps! (generic function with 1 method)"
      ]
     },
     "execution_count": 11,
     "metadata": {},
     "output_type": "execute_result"
    }
   ],
   "source": [
    "function transform_to_steps!(A::AbstractMatrix; epsilon = 1e-7)\n",
    "    @inbounds for k ∈ 1:size(A, 1)\n",
    "        try\n",
    "        Δk = leading_element(@view(A[k:end, k]))\n",
    "        Δk > 1 && swap!(@view(A[k, k:end]), @view(A[k+Δk-1, k:end]))\n",
    "        for i ∈ k+1:size(A,1)\n",
    "            t = A[i,k]/A[k,k]\n",
    "            @. @views A[i,k:end] = A[i,k:end] - t * A[k,k:end]\n",
    "        end\n",
    "        catch\n",
    "            continue\n",
    "        end\n",
    "    end\n",
    "    return A\n",
    "end"
   ]
  },
  {
   "cell_type": "code",
   "execution_count": 12,
   "metadata": {},
   "outputs": [
    {
     "data": {
      "text/plain": [
       "swap! (generic function with 1 method)"
      ]
     },
     "execution_count": 12,
     "metadata": {},
     "output_type": "execute_result"
    }
   ],
   "source": [
    "@inline\n",
    "function swap!(A,B)\n",
    "    @inbounds for i in eachindex(A)\n",
    "        A[i], B[i] = B[i], A[i]\n",
    "    end\n",
    "end"
   ]
  },
  {
   "cell_type": "code",
   "execution_count": 13,
   "metadata": {},
   "outputs": [
    {
     "data": {
      "text/plain": [
       "leading_element (generic function with 2 methods)"
      ]
     },
     "execution_count": 13,
     "metadata": {},
     "output_type": "execute_result"
    }
   ],
   "source": [
    "function leading_element(a::AbstractVector{T}) where T\n",
    "    absval, k = findmax(abs, a)\n",
    "    approx_iszero(absval) && throw(\"Вырожденая матрица\")\n",
    "    return k\n",
    "end\n",
    "\n",
    "function leading_element(a::AbstractVector{Rational{T}}) where T\n",
    "    k = findfirst(x -> !iszero(x), a)\n",
    "    isnothing(k) && throw(\"Матрица вырожденная\")\n",
    "    return k\n",
    "end"
   ]
  },
  {
   "cell_type": "code",
   "execution_count": 14,
   "metadata": {},
   "outputs": [
    {
     "data": {
      "text/plain": [
       "gauss (generic function with 1 method)"
      ]
     },
     "execution_count": 14,
     "metadata": {},
     "output_type": "execute_result"
    }
   ],
   "source": [
    "function gauss(A::AbstractMatrix{T}, b::AbstractVector{T}) where T\n",
    "    Ab = hcat(A, b)\n",
    "    transform_to_steps!(Ab)\n",
    "\n",
    "    return reverse_gauss(@view(Ab[1:end, 1:end-1]), @view(Ab[1:end, end]))\n",
    "end"
   ]
  },
  {
   "cell_type": "code",
   "execution_count": 15,
   "metadata": {},
   "outputs": [
    {
     "data": {
      "text/plain": [
       "1000-element Vector{Float64}:\n",
       "  2.125997620686782\n",
       "  1.0283063615984263\n",
       " -0.05129570028641299\n",
       "  1.241015773829589\n",
       "  0.17143481797043103\n",
       " -0.5428177823948253\n",
       " -1.1506969812416528\n",
       "  2.0464132835830466\n",
       "  0.06879121176449374\n",
       " -0.4386108319966885\n",
       "  1.5034403432923373\n",
       "  0.6106770282684388\n",
       " -0.30296083015475606\n",
       "  ⋮\n",
       "  0.08844821499096676\n",
       "  2.1441401890654017\n",
       "  0.03243411805226193\n",
       " -1.0847331879930653\n",
       "  0.223958336384763\n",
       " -0.6369183519307902\n",
       "  0.9547613224536774\n",
       "  0.7118780117066037\n",
       "  0.2770098670254979\n",
       " -1.1860932733270848\n",
       "  1.0614284233071778\n",
       " -0.7709747156565975"
      ]
     },
     "execution_count": 15,
     "metadata": {},
     "output_type": "execute_result"
    }
   ],
   "source": [
    "A = randn(1000, 1000)\n",
    "b = randn(1000)"
   ]
  },
  {
   "cell_type": "code",
   "execution_count": 16,
   "metadata": {},
   "outputs": [
    {
     "name": "stdout",
     "output_type": "stream",
     "text": [
      "  0.270912 seconds (598.45 k allocations: 47.523 MiB, 1.84% gc time, 96.65% compilation time)\n"
     ]
    },
    {
     "data": {
      "text/plain": [
       "1000-element Vector{Float64}:\n",
       "     -1.7367188745545988e277\n",
       "     -3.3290152243756276e277\n",
       "      2.7554485828684103e277\n",
       "      6.068385101364874e276\n",
       "     -4.872330084645992e276\n",
       "      3.117011833957012e276\n",
       "     -5.556447061118702e275\n",
       "      6.750242664374158e274\n",
       "      7.902178986234912e275\n",
       "      1.3159630374699567e274\n",
       "     -1.0782774855777491e275\n",
       "     -4.471949222254569e274\n",
       "     -2.5268877235863767e274\n",
       "      ⋮\n",
       " -10310.535287480181\n",
       "  -1317.561333336029\n",
       "    373.81840983810355\n",
       "   -909.8005756072462\n",
       "   -453.7615416467173\n",
       "    979.8505252476517\n",
       "    -18.66900711909111\n",
       "      5.133009076035325\n",
       "     -0.039734329603128254\n",
       "      5.678538800301668\n",
       "     -0.848676607869301\n",
       "      0.3811166366724383"
      ]
     },
     "execution_count": 16,
     "metadata": {},
     "output_type": "execute_result"
    }
   ],
   "source": [
    "@time x = gauss(A, b)"
   ]
  },
  {
   "cell_type": "code",
   "execution_count": 17,
   "metadata": {},
   "outputs": [
    {
     "data": {
      "text/plain": [
       "matrix_rank (generic function with 2 methods)"
      ]
     },
     "execution_count": 17,
     "metadata": {},
     "output_type": "execute_result"
    }
   ],
   "source": [
    "function matrix_rank(A::AbstractMatrix{T}, eps=10e-7) where T\n",
    "    step_view = copy(A)\n",
    "    transform_to_steps!(step_view, epsilon=eps)\n",
    "    count = 0\n",
    "    for i in 1:size(A)[1]\n",
    "        flag = false\n",
    "        for j in 1:size(A)[2]\n",
    "            flag = flag || abs(step_view[i, j]) >= eps\n",
    "        end\n",
    "        if flag == true count += 1 end\n",
    "    end\n",
    "    return count\n",
    "end"
   ]
  },
  {
   "cell_type": "code",
   "execution_count": 18,
   "metadata": {},
   "outputs": [
    {
     "data": {
      "text/plain": [
       "1000×1000 Matrix{Float64}:\n",
       "  0.731728   -0.130096   -0.445554   …   2.45924     0.547549    0.648501\n",
       "  1.18053    -1.21426    -0.370823      -0.579525   -0.403515    1.86749\n",
       " -2.2101      0.642292    0.659364      -0.547094   -1.12962     1.61085\n",
       "  0.353433   -0.72623    -0.0521768     -0.30339    -1.12749     0.0311323\n",
       "  0.430384   -0.447394    0.225656      -0.0334555  -0.757343   -1.12401\n",
       " -1.15851    -0.477451    2.49748    …   0.41145    -0.450054    0.856167\n",
       "  0.58251    -0.605505   -1.53746        0.903009    1.7015     -0.0590442\n",
       "  0.0696314  -0.340298   -0.561131      -1.28625    -0.0172841  -0.32084\n",
       "  0.746297    0.0172404  -0.0403506     -0.535968    0.193989    0.785783\n",
       " -0.571214   -0.413365   -0.806718      -1.16603    -0.584538   -1.05939\n",
       " -1.41536    -0.782171    0.306138   …   0.747949   -0.0244121   1.04147\n",
       " -1.56858     1.42151     0.624301      -0.366388    2.32057     0.315456\n",
       "  0.280922    1.62036    -1.14499       -1.05541     0.265566    0.711219\n",
       "  ⋮                                  ⋱                          \n",
       " -0.66826     0.626718   -0.16438        1.60046     0.288489   -2.01677\n",
       " -0.931842   -0.244244    0.923188      -0.454617   -0.908642   -0.453477\n",
       "  0.529882   -0.567247    0.517208   …  -1.07683    -1.85153    -1.38255\n",
       "  2.14337    -0.613519   -0.731868      -1.22339    -1.26373     1.28715\n",
       " -1.12279    -1.91528    -0.582635      -0.595948    0.0647516  -1.10195\n",
       " -0.607791   -0.14265    -0.369509       0.41685    -1.91704    -0.471602\n",
       "  1.56153    -0.507174    1.02938        1.0824     -0.774566   -0.148355\n",
       "  1.68411    -0.267447   -0.552095   …   0.799192    0.911036   -0.732057\n",
       " -1.21734    -0.161412   -0.366439       0.0686864  -2.3406      0.161483\n",
       " -1.7982     -0.835349    1.19408       -0.850459    1.08391     2.09073\n",
       " -0.346339    0.394475    0.884559      -0.0560773  -2.32692    -0.343543\n",
       "  1.0165      0.963804    0.298161      -1.19525    -1.40827     0.182581"
      ]
     },
     "execution_count": 18,
     "metadata": {},
     "output_type": "execute_result"
    }
   ],
   "source": [
    "A = randn(1000, 1000)"
   ]
  },
  {
   "cell_type": "code",
   "execution_count": 19,
   "metadata": {},
   "outputs": [
    {
     "data": {
      "text/plain": [
       "true"
      ]
     },
     "execution_count": 19,
     "metadata": {},
     "output_type": "execute_result"
    }
   ],
   "source": [
    "matrix_rank(A) == rank(A)"
   ]
  },
  {
   "cell_type": "code",
   "execution_count": 20,
   "metadata": {},
   "outputs": [
    {
     "data": {
      "text/plain": [
       "det_steps (generic function with 2 methods)"
      ]
     },
     "execution_count": 20,
     "metadata": {},
     "output_type": "execute_result"
    }
   ],
   "source": [
    "function det_steps(A::AbstractMatrix{T}, eps=10e-9) where T\n",
    "    if size(A)[1] != size(A)[2] throw(\"Количество строк и столбцов должно быть одинаковое\") end\n",
    "\n",
    "    step_view = copy(A)\n",
    "    transform_to_steps!(step_view, epsilon=eps)\n",
    "    val = one(T)\n",
    "    for i in 1:size(A)[1]\n",
    "        val *= step_view[i, i]\n",
    "    end\n",
    "    return val\n",
    "end"
   ]
  },
  {
   "cell_type": "code",
   "execution_count": 21,
   "metadata": {},
   "outputs": [
    {
     "data": {
      "text/plain": [
       "3×3 Matrix{Float64}:\n",
       " -0.786312    -1.44483   -0.0620529\n",
       "  0.00459255  -0.145946   1.28674\n",
       "  0.347815     0.84207   -1.32974"
      ]
     },
     "execution_count": 21,
     "metadata": {},
     "output_type": "execute_result"
    }
   ],
   "source": [
    "A = randn(3, 3)"
   ]
  },
  {
   "cell_type": "code",
   "execution_count": 22,
   "metadata": {},
   "outputs": [
    {
     "data": {
      "text/plain": [
       "175.1028416604142"
      ]
     },
     "execution_count": 22,
     "metadata": {},
     "output_type": "execute_result"
    }
   ],
   "source": [
    "cond(A)"
   ]
  },
  {
   "cell_type": "code",
   "execution_count": 23,
   "metadata": {},
   "outputs": [
    {
     "data": {
      "text/plain": [
       "-0.19314685887254696"
      ]
     },
     "execution_count": 23,
     "metadata": {},
     "output_type": "execute_result"
    }
   ],
   "source": [
    "det_steps(A) - det(A)"
   ]
  }
 ],
 "metadata": {
  "kernelspec": {
   "display_name": "Julia 1.10.2",
   "language": "julia",
   "name": "julia-1.10"
  },
  "language_info": {
   "file_extension": ".jl",
   "mimetype": "application/julia",
   "name": "julia",
   "version": "1.10.2"
  }
 },
 "nbformat": 4,
 "nbformat_minor": 2
}
